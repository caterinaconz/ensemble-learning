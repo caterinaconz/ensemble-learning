{
 "cells": [
  {
   "cell_type": "markdown",
   "metadata": {},
   "source": [
    "# Regression Decision Tree "
   ]
  },
  {
   "cell_type": "markdown",
   "metadata": {},
   "source": [
    "## Import Modules"
   ]
  },
  {
   "cell_type": "code",
   "execution_count": 27,
   "metadata": {},
   "outputs": [],
   "source": [
    "import numpy as np\n",
    "import pandas as pd\n",
    "import matplotlib.pyplot as plt "
   ]
  },
  {
   "cell_type": "markdown",
   "metadata": {},
   "source": [
    "## Importing data"
   ]
  },
  {
   "cell_type": "code",
   "execution_count": 28,
   "metadata": {},
   "outputs": [
    {
     "data": {
      "image/png": "[encoded data removed]",
      "text/plain": [
       "<Figure size 432x288 with 1 Axes>"
      ]
     },
     "metadata": {
      "needs_background": "light"
     },
     "output_type": "display_data"
    }
   ],
   "source": [
    "# First tried with the parabola, but had issues in the concatenate inside the fit\n",
    "N = 200\n",
    "X = np.linspace(-1,1,N)\n",
    "Y = X**2 + np.random.normal(0, 0.07, N)\n",
    "X = X.reshape(-1,1)\n",
    "Y = Y.reshape(-1,1)\n",
    "plt.scatter(X,Y)\n",
    "plt.show()\n"
   ]
  },
  {
   "cell_type": "markdown",
   "metadata": {},
   "source": [
    "## Node class"
   ]
  },
  {
   "cell_type": "markdown",
   "metadata": {},
   "source": [
    "A small class just containing a constructor, which will basically describe the nodes of our tree. "
   ]
  },
  {
   "cell_type": "code",
   "execution_count": 29,
   "metadata": {},
   "outputs": [],
   "source": [
    "class Node():\n",
    "    def __init__(self, feature_index=None, threshold=None, left=None, right=None, var_red=None, value=None):\n",
    "        ''' constructor ''' \n",
    "        \n",
    "        # Decision node\n",
    "        self.feature_index = feature_index\n",
    "        self.threshold = threshold\n",
    "        self.left = left\n",
    "        self.right = right\n",
    "        self.var_red = var_red\n",
    "        \n",
    "        # for leaf node\n",
    "        self.value = value"
   ]
  },
  {
   "cell_type": "markdown",
   "metadata": {},
   "source": [
    "## Tree class"
   ]
  },
  {
   "cell_type": "markdown",
   "metadata": {},
   "source": [
    "The actual algorithm, which will contain a tree building part, entropy calculation etc."
   ]
  },
  {
   "cell_type": "code",
   "execution_count": 30,
   "metadata": {},
   "outputs": [],
   "source": [
    "class DecisionTreeRegressor():\n",
    "    def __init__(self, min_samples_split=2, max_depth=2):\n",
    "        ''' constructor '''\n",
    "        \n",
    "        # initialize the root of the tree \n",
    "        self.root = None\n",
    "        \n",
    "        # stopping conditions\n",
    "        self.min_samples_split = min_samples_split\n",
    "        self.max_depth = max_depth\n",
    "        \n",
    "    def build_tree(self, dataset, curr_depth=0):\n",
    "        ''' recursive function to build the tree '''\n",
    "        \n",
    "        X, Y = dataset[:,:-1], dataset[:,-1]\n",
    "        \n",
    "        # extracts the number of samples and features \n",
    "        num_samples, num_features = np.shape(X)\n",
    "        best_split = {}\n",
    "        \n",
    "        # split until stopping conditions are met\n",
    "        if num_samples>=self.min_samples_split and curr_depth<=self.max_depth:\n",
    "            \n",
    "            # find the best split\n",
    "            best_split = self.get_best_split(dataset, num_samples, num_features)\n",
    "            \n",
    "            # check if information gain is positive\n",
    "            if best_split[\"var_red\"]>0:\n",
    "                \n",
    "                # recur left\n",
    "                left_subtree = self.build_tree(best_split[\"dataset_left\"], curr_depth+1)\n",
    "                # recur right\n",
    "                right_subtree = self.build_tree(best_split[\"dataset_right\"], curr_depth+1)\n",
    "                \n",
    "                # return decision node\n",
    "                return Node(best_split[\"feature_index\"], best_split[\"threshold\"], \n",
    "                            left_subtree, right_subtree, best_split[\"var_red\"])\n",
    "        \n",
    "        # compute leaf node\n",
    "        leaf_value = self.calculate_leaf_value(Y)\n",
    "        # return leaf node\n",
    "        return Node(value=leaf_value)\n",
    "    \n",
    "    def get_best_split(self, dataset, num_samples, num_features):\n",
    "        ''' function to find the best split \n",
    "        returns a dictionary, indeed best_split dicsionary is defined at the beginning and max info gain is initializeed \n",
    "        as negatve infinity, since we want to maximise the information gain, and to find that we need to use a  number\n",
    "        bigger that any other number '''\n",
    "        \n",
    "        # dictionary to store the best split\n",
    "        best_split = {}\n",
    "        max_var_red = -float(\"inf\")\n",
    "        \n",
    "        # loop over all the features\n",
    "        for feature_index in range(num_features):\n",
    "            feature_values = dataset[:, feature_index]\n",
    "            possible_thresholds = np.unique(feature_values)\n",
    "            \n",
    "            # loop over all the feature values present in the data\n",
    "            for threshold in possible_thresholds:\n",
    "                \n",
    "                # get current split\n",
    "                dataset_left, dataset_right = self.split(dataset, feature_index, threshold)\n",
    "                \n",
    "                # check if childs are not null\n",
    "                if len(dataset_left)>0 and len(dataset_right)>0:\n",
    "                    y, left_y, right_y = dataset[:, -1], dataset_left[:, -1], dataset_right[:, -1]\n",
    "                    \n",
    "                    # compute information gain\n",
    "                    curr_var_red = self.variance_reduction(y, left_y, right_y)\n",
    "                    \n",
    "                    # update the best split if needed\n",
    "                    if curr_var_red>max_var_red:\n",
    "                        best_split[\"feature_index\"] = feature_index\n",
    "                        best_split[\"threshold\"] = threshold\n",
    "                        best_split[\"dataset_left\"] = dataset_left\n",
    "                        best_split[\"dataset_right\"] = dataset_right\n",
    "                        best_split[\"var_red\"] = curr_var_red\n",
    "                        max_var_red = curr_var_red\n",
    "                        \n",
    "        # return best split\n",
    "        return best_split\n",
    "    \n",
    "    def split(self, dataset, feature_index, threshold):\n",
    "        ''' function to split the data '''\n",
    "        \n",
    "        dataset_left = np.array([row for row in dataset if row[feature_index]<=threshold])\n",
    "        dataset_right = np.array([row for row in dataset if row[feature_index]>threshold])\n",
    "        return dataset_left, dataset_right\n",
    "    \n",
    "    def variance_reduction(self, parent, l_child, r_child):\n",
    "        ''' function to compute variance reduction '''\n",
    "        \n",
    "        weight_l = len(l_child) / len(parent)\n",
    "        weight_r = len(r_child) / len(parent)\n",
    "        reduction = np.var(parent) - (weight_l * np.var(l_child) + weight_r * np.var(r_child))\n",
    "        return reduction\n",
    "    \n",
    "    def calculate_leaf_value(self, Y):\n",
    "        ''' function to compute leaf node.\n",
    "        \n",
    "        For regression, leaf node is computed by the mean of the values in the predictor column, while\n",
    "        for classificaiton, the leaf node is computed by majority rule.\n",
    "        \n",
    "        '''\n",
    "        \n",
    "        val = np.mean(Y) # mean class contained in that particular node \n",
    "        return val\n",
    "                \n",
    "    def print_tree(self, tree=None, indent=\" \"):\n",
    "        ''' function to print the tree '''\n",
    "        \n",
    "        if not tree:\n",
    "            tree = self.root\n",
    "\n",
    "        if tree.value is not None:\n",
    "            print(tree.value)\n",
    "\n",
    "        else:\n",
    "            print(\"X_\"+str(tree.feature_index), \"<=\", tree.threshold, \"?\", tree.var_red)\n",
    "            print(\"%sleft:\" % (indent), end=\"\")\n",
    "            self.print_tree(tree.left, indent + indent)\n",
    "            print(\"%sright:\" % (indent), end=\"\")\n",
    "            self.print_tree(tree.right, indent + indent)\n",
    "            \n",
    "            \n",
    "            \n",
    "    \n",
    "    def fit(self, X, Y):\n",
    "        ''' function to train the tree '''\n",
    "        # concatenate x and y to create the dataset\n",
    "        \n",
    "        #dataset = np.concatenate((X, Y), axis=1)\n",
    "        dataset = np.column_stack((X,Y))\n",
    "        #dataset = np.hstack((X,Y))\n",
    "        \n",
    "        \n",
    "        # call the build tree function\n",
    "        #root node will be returned by the build tree fct and it will be stored in self.root\n",
    "        \n",
    "        self.root = self.build_tree(dataset)\n",
    "        \n",
    "    def make_prediction(self, x, tree):\n",
    "        ''' function to predict new dataset '''\n",
    "        \n",
    "        if tree.value!=None: return tree.value\n",
    "        feature_val = x[tree.feature_index]\n",
    "        if feature_val<=tree.threshold:\n",
    "            return self.make_prediction(x, tree.left)\n",
    "        else:\n",
    "            return self.make_prediction(x, tree.right)\n",
    "    \n",
    "    def predict(self, X):\n",
    "        ''' function to predict a single data point '''\n",
    "        \n",
    "        preditions = [self.make_prediction(x, self.root) for x in X]\n",
    "        return preditions"
   ]
  },
  {
   "cell_type": "markdown",
   "metadata": {},
   "source": [
    "## Train-Test split"
   ]
  },
  {
   "cell_type": "code",
   "execution_count": 31,
   "metadata": {},
   "outputs": [],
   "source": [
    "from sklearn.model_selection import train_test_split\n",
    "X_train, X_test, Y_train, Y_test = train_test_split(X, Y, test_size=.2, random_state=41)"
   ]
  },
  {
   "cell_type": "code",
   "execution_count": 32,
   "metadata": {},
   "outputs": [
    {
     "data": {
      "text/plain": [
       "2"
      ]
     },
     "execution_count": 32,
     "metadata": {},
     "output_type": "execute_result"
    }
   ],
   "source": [
    "X_train.ndim"
   ]
  },
  {
   "cell_type": "code",
   "execution_count": 33,
   "metadata": {},
   "outputs": [
    {
     "data": {
      "text/plain": [
       "2"
      ]
     },
     "execution_count": 33,
     "metadata": {},
     "output_type": "execute_result"
    }
   ],
   "source": [
    "Y_train.ndim"
   ]
  },
  {
   "cell_type": "markdown",
   "metadata": {},
   "source": [
    "## Fit the model"
   ]
  },
  {
   "cell_type": "code",
   "execution_count": 34,
   "metadata": {},
   "outputs": [
    {
     "name": "stdout",
     "output_type": "stream",
     "text": [
      "X_0 <= -0.728643216080402 ? 0.035208107893281465\n",
      " left:X_0 <= -0.8793969849246231 ? 0.01646572733367439\n",
      "  left:X_0 <= -0.9798994974874372 ? 0.007406072159855251\n",
      "    left:X_0 <= -1.0 ? 0.0003307600541663329\n",
      "        left:1.093792190647702\n",
      "        right:1.0552121408324346\n",
      "    right:X_0 <= -0.9396984924623115 ? 0.002642168591135482\n",
      "        left:0.9262413033213303\n",
      "        right:0.8234372452081316\n",
      "  right:X_0 <= -0.8090452261306533 ? 0.0027919527738708063\n",
      "    left:X_0 <= -0.8693467336683417 ? 0.0008731783287726875\n",
      "        left:0.7931531437621101\n",
      "        right:0.7138632707191839\n",
      "    right:X_0 <= -0.7688442211055276 ? 0.00048046399596510714\n",
      "        left:0.6463967797068463\n",
      "        right:0.602103499740345\n",
      " right:X_0 <= 0.5979899497487438 ? 0.05015581090679537\n",
      "  left:X_0 <= -0.5678391959798995 ? 0.009540872709366094\n",
      "    left:X_0 <= -0.6381909547738693 ? 0.0015278564581776115\n",
      "        left:0.45594604732099536\n",
      "        right:0.37469013952709773\n",
      "    right:X_0 <= 0.33668341708542715 ? 0.004866327615572192\n",
      "        left:0.07003282586157149\n",
      "        right:0.2375107032280249\n",
      "  right:X_0 <= 0.778894472361809 ? 0.022330765885695887\n",
      "    left:X_0 <= 0.6984924623115578 ? 0.0025069253278215044\n",
      "        left:0.4525232794981277\n",
      "        right:0.5529592790678413\n",
      "    right:X_0 <= 0.8894472361809045 ? 0.007682924766819399\n",
      "        left:0.723314416905849\n",
      "        right:0.8997112573129791\n"
     ]
    }
   ],
   "source": [
    "regressor = DecisionTreeRegressor(min_samples_split=3, max_depth=3)\n",
    "regressor.fit(X_train,Y_train)\n",
    "regressor.print_tree()"
   ]
  },
  {
   "cell_type": "markdown",
   "metadata": {},
   "source": [
    "## Test the model"
   ]
  },
  {
   "cell_type": "code",
   "execution_count": 35,
   "metadata": {},
   "outputs": [
    {
     "data": {
      "text/plain": [
       "0.09433961881361701"
      ]
     },
     "execution_count": 35,
     "metadata": {},
     "output_type": "execute_result"
    }
   ],
   "source": [
    "Y_pred = regressor.predict(X_test) \n",
    "\n",
    "from sklearn.metrics import mean_squared_error\n",
    "rmse = np.sqrt(mean_squared_error(y_test, Y_pred))\n",
    "mse = mean_squared_error(y_test, Y_pred)\n",
    "\n",
    "print(\"RMSE: {:.2f}\".format(rmse))\n",
    "print(\"MSE: {:.2f}\".format(mse))"
   ]
  },
  {
   "cell_type": "markdown",
   "metadata": {},
   "source": [
    "## Let's test the tree on another dataset: the diabetes dataset"
   ]
  },
  {
   "cell_type": "code",
   "execution_count": 36,
   "metadata": {},
   "outputs": [],
   "source": [
    "from sklearn.datasets import load_diabetes\n",
    "from sklearn import model_selection\n",
    "from sklearn.model_selection import train_test_split\n",
    "\n",
    "diabetes = load_diabetes()\n",
    "\n",
    "from sklearn.model_selection import train_test_split\n",
    "X_train, X_test, y_train, y_test = train_test_split(diabetes.data, diabetes.target, test_size=0.30, random_state=0)\n"
   ]
  },
  {
   "cell_type": "markdown",
   "metadata": {},
   "source": [
    "## Fit the model"
   ]
  },
  {
   "cell_type": "code",
   "execution_count": 37,
   "metadata": {},
   "outputs": [
    {
     "name": "stdout",
     "output_type": "stream",
     "text": [
      "X_8 <= 0.0213108465682448 ? 1997.0530908365454\n",
      " left:X_2 <= 0.00457216660300077 ? 979.3019065841804\n",
      "  left:X_6 <= 0.0191869970174533 ? 307.072122073178\n",
      "    left:X_8 <= -0.0439854025655911 ? 377.94398428731756\n",
      "        left:86.25\n",
      "        right:130.21212121212122\n",
      "    right:X_6 <= 0.159089233572762 ? 114.52447734192015\n",
      "        left:81.74242424242425\n",
      "        right:170.0\n",
      "  right:X_3 <= 0.0218723549949558 ? 1195.670590087273\n",
      "    left:X_6 <= -0.0029028298070691 ? 538.5354409143329\n",
      "        left:164.72727272727272\n",
      "        right:116.16666666666667\n",
      "    right:X_8 <= -0.0332487872476258 ? 1883.3944384771457\n",
      "        left:85.0\n",
      "        right:232.8421052631579\n",
      " right:X_2 <= 0.0121168511201671 ? 1246.314661475798\n",
      "  left:X_3 <= 0.0563010619323185 ? 768.6915807836399\n",
      "    left:X_7 <= 0.0712099797536354 ? 627.3026595391461\n",
      "        left:159.0909090909091\n",
      "        right:239.75\n",
      "    right:X_2 <= -0.0503962491649252 ? 1740.0208333333333\n",
      "        left:189.0\n",
      "        right:285.3333333333333\n",
      "  right:X_5 <= 0.0215459602844172 ? 441.742237705359\n",
      "    left:X_2 <= 0.0692408910358548 ? 480.98605022557604\n",
      "        left:251.47826086956522\n",
      "        right:299.2\n",
      "    right:X_8 <= 0.062575181458056 ? 709.7381102409458\n",
      "        left:201.85714285714286\n",
      "        right:256.44444444444446\n"
     ]
    }
   ],
   "source": [
    "regressor = DecisionTreeRegressor(min_samples_split=3, max_depth=3)\n",
    "regressor.fit(X_train,y_train)\n",
    "regressor.print_tree()"
   ]
  },
  {
   "cell_type": "markdown",
   "metadata": {},
   "source": [
    "### Let's test the model"
   ]
  },
  {
   "cell_type": "code",
   "execution_count": 38,
   "metadata": {},
   "outputs": [
    {
     "name": "stdout",
     "output_type": "stream",
     "text": [
      "RMSE: 67.13\n",
      "MSE: 4506.96\n"
     ]
    }
   ],
   "source": [
    "Y_pred = regressor.predict(X_test) \n",
    "\n",
    "from sklearn.metrics import mean_squared_error\n",
    "rmse = np.sqrt(mean_squared_error(y_test, Y_pred))\n",
    "mse = mean_squared_error(y_test, Y_pred)\n",
    "\n",
    "print(\"RMSE: {:.2f}\".format(rmse))\n",
    "print(\"MSE: {:.2f}\".format(mse))"
   ]
  }
 ],
 "metadata": {
  "kernelspec": {
   "display_name": "Python 3 (ipykernel)",
   "language": "python",
   "name": "python3"
  },
  "language_info": {
   "codemirror_mode": {
    "name": "ipython",
    "version": 3
   },
   "file_extension": ".py",
   "mimetype": "text/x-python",
   "name": "python",
   "nbconvert_exporter": "python",
   "pygments_lexer": "ipython3",
   "version": "3.8.12"
  }
 },
 "nbformat": 4,
 "nbformat_minor": 4
}
